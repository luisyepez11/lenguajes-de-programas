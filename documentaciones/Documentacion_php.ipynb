{
  "nbformat": 4,
  "nbformat_minor": 0,
  "metadata": {
    "colab": {
      "provenance": []
    },
    "kernelspec": {
      "name": "python3",
      "display_name": "Python 3"
    },
    "language_info": {
      "name": "python"
    }
  },
  "cells": [
    {
      "cell_type": "code",
      "execution_count": null,
      "metadata": {
        "colab": {
          "base_uri": "https://localhost:8080/"
        },
        "id": "mYNWqeIixFS2",
        "outputId": "f428aa8d-5655-4267-cdff-23ba97e5f939"
      },
      "outputs": [
        {
          "output_type": "stream",
          "name": "stdout",
          "text": [
            "Reading package lists... Done\n",
            "Building dependency tree... Done\n",
            "Reading state information... Done\n",
            "The following additional packages will be installed:\n",
            "  php-common php8.1-cli php8.1-common php8.1-opcache php8.1-readline\n",
            "Suggested packages:\n",
            "  php-pear\n",
            "The following NEW packages will be installed:\n",
            "  php-cli php-common php8.1-cli php8.1-common php8.1-opcache php8.1-readline\n",
            "0 upgraded, 6 newly installed, 0 to remove and 38 not upgraded.\n",
            "Need to get 3,359 kB of archives.\n",
            "After this operation, 15.9 MB of additional disk space will be used.\n",
            "Get:1 http://archive.ubuntu.com/ubuntu jammy/main amd64 php-common all 2:92ubuntu1 [12.4 kB]\n",
            "Get:2 http://archive.ubuntu.com/ubuntu jammy-updates/main amd64 php8.1-common amd64 8.1.2-1ubuntu2.22 [1,129 kB]\n",
            "Get:3 http://archive.ubuntu.com/ubuntu jammy-updates/main amd64 php8.1-opcache amd64 8.1.2-1ubuntu2.22 [365 kB]\n",
            "Get:4 http://archive.ubuntu.com/ubuntu jammy-updates/main amd64 php8.1-readline amd64 8.1.2-1ubuntu2.22 [13.6 kB]\n",
            "Get:5 http://archive.ubuntu.com/ubuntu jammy-updates/main amd64 php8.1-cli amd64 8.1.2-1ubuntu2.22 [1,835 kB]\n",
            "Get:6 http://archive.ubuntu.com/ubuntu jammy/main amd64 php-cli all 2:8.1+92ubuntu1 [3,234 B]\n",
            "Fetched 3,359 kB in 1s (4,599 kB/s)\n",
            "debconf: unable to initialize frontend: Dialog\n",
            "debconf: (No usable dialog-like program is installed, so the dialog based frontend cannot be used. at /usr/share/perl5/Debconf/FrontEnd/Dialog.pm line 78, <> line 6.)\n",
            "debconf: falling back to frontend: Readline\n",
            "debconf: unable to initialize frontend: Readline\n",
            "debconf: (This frontend requires a controlling tty.)\n",
            "debconf: falling back to frontend: Teletype\n",
            "dpkg-preconfigure: unable to re-open stdin: \n",
            "Selecting previously unselected package php-common.\n",
            "(Reading database ... 126718 files and directories currently installed.)\n",
            "Preparing to unpack .../0-php-common_2%3a92ubuntu1_all.deb ...\n",
            "Unpacking php-common (2:92ubuntu1) ...\n",
            "Selecting previously unselected package php8.1-common.\n",
            "Preparing to unpack .../1-php8.1-common_8.1.2-1ubuntu2.22_amd64.deb ...\n",
            "Unpacking php8.1-common (8.1.2-1ubuntu2.22) ...\n",
            "Selecting previously unselected package php8.1-opcache.\n",
            "Preparing to unpack .../2-php8.1-opcache_8.1.2-1ubuntu2.22_amd64.deb ...\n",
            "Unpacking php8.1-opcache (8.1.2-1ubuntu2.22) ...\n",
            "Selecting previously unselected package php8.1-readline.\n",
            "Preparing to unpack .../3-php8.1-readline_8.1.2-1ubuntu2.22_amd64.deb ...\n",
            "Unpacking php8.1-readline (8.1.2-1ubuntu2.22) ...\n",
            "Selecting previously unselected package php8.1-cli.\n",
            "Preparing to unpack .../4-php8.1-cli_8.1.2-1ubuntu2.22_amd64.deb ...\n",
            "Unpacking php8.1-cli (8.1.2-1ubuntu2.22) ...\n",
            "Selecting previously unselected package php-cli.\n",
            "Preparing to unpack .../5-php-cli_2%3a8.1+92ubuntu1_all.deb ...\n",
            "Unpacking php-cli (2:8.1+92ubuntu1) ...\n",
            "Setting up php-common (2:92ubuntu1) ...\n",
            "Created symlink /etc/systemd/system/timers.target.wants/phpsessionclean.timer → /lib/systemd/system/phpsessionclean.timer.\n",
            "Setting up php8.1-common (8.1.2-1ubuntu2.22) ...\n",
            "debconf: unable to initialize frontend: Dialog\n",
            "debconf: (No usable dialog-like program is installed, so the dialog based frontend cannot be used. at /usr/share/perl5/Debconf/FrontEnd/Dialog.pm line 78.)\n",
            "debconf: falling back to frontend: Readline\n",
            "\n",
            "Creating config file /etc/php/8.1/mods-available/calendar.ini with new version\n",
            "debconf: unable to initialize frontend: Dialog\n",
            "debconf: (No usable dialog-like program is installed, so the dialog based frontend cannot be used. at /usr/share/perl5/Debconf/FrontEnd/Dialog.pm line 78.)\n",
            "debconf: falling back to frontend: Readline\n",
            "\n",
            "Creating config file /etc/php/8.1/mods-available/ctype.ini with new version\n",
            "debconf: unable to initialize frontend: Dialog\n",
            "debconf: (No usable dialog-like program is installed, so the dialog based frontend cannot be used. at /usr/share/perl5/Debconf/FrontEnd/Dialog.pm line 78.)\n",
            "debconf: falling back to frontend: Readline\n",
            "\n",
            "Creating config file /etc/php/8.1/mods-available/exif.ini with new version\n",
            "debconf: unable to initialize frontend: Dialog\n",
            "debconf: (No usable dialog-like program is installed, so the dialog based frontend cannot be used. at /usr/share/perl5/Debconf/FrontEnd/Dialog.pm line 78.)\n",
            "debconf: falling back to frontend: Readline\n",
            "\n",
            "Creating config file /etc/php/8.1/mods-available/fileinfo.ini with new version\n",
            "debconf: unable to initialize frontend: Dialog\n",
            "debconf: (No usable dialog-like program is installed, so the dialog based frontend cannot be used. at /usr/share/perl5/Debconf/FrontEnd/Dialog.pm line 78.)\n",
            "debconf: falling back to frontend: Readline\n",
            "\n",
            "Creating config file /etc/php/8.1/mods-available/ffi.ini with new version\n",
            "debconf: unable to initialize frontend: Dialog\n",
            "debconf: (No usable dialog-like program is installed, so the dialog based frontend cannot be used. at /usr/share/perl5/Debconf/FrontEnd/Dialog.pm line 78.)\n",
            "debconf: falling back to frontend: Readline\n",
            "\n",
            "Creating config file /etc/php/8.1/mods-available/ftp.ini with new version\n",
            "debconf: unable to initialize frontend: Dialog\n",
            "debconf: (No usable dialog-like program is installed, so the dialog based frontend cannot be used. at /usr/share/perl5/Debconf/FrontEnd/Dialog.pm line 78.)\n",
            "debconf: falling back to frontend: Readline\n",
            "\n",
            "Creating config file /etc/php/8.1/mods-available/gettext.ini with new version\n",
            "debconf: unable to initialize frontend: Dialog\n",
            "debconf: (No usable dialog-like program is installed, so the dialog based frontend cannot be used. at /usr/share/perl5/Debconf/FrontEnd/Dialog.pm line 78.)\n",
            "debconf: falling back to frontend: Readline\n",
            "\n",
            "Creating config file /etc/php/8.1/mods-available/iconv.ini with new version\n",
            "debconf: unable to initialize frontend: Dialog\n",
            "debconf: (No usable dialog-like program is installed, so the dialog based frontend cannot be used. at /usr/share/perl5/Debconf/FrontEnd/Dialog.pm line 78.)\n",
            "debconf: falling back to frontend: Readline\n",
            "\n",
            "Creating config file /etc/php/8.1/mods-available/pdo.ini with new version\n",
            "debconf: unable to initialize frontend: Dialog\n",
            "debconf: (No usable dialog-like program is installed, so the dialog based frontend cannot be used. at /usr/share/perl5/Debconf/FrontEnd/Dialog.pm line 78.)\n",
            "debconf: falling back to frontend: Readline\n",
            "\n",
            "Creating config file /etc/php/8.1/mods-available/phar.ini with new version\n",
            "debconf: unable to initialize frontend: Dialog\n",
            "debconf: (No usable dialog-like program is installed, so the dialog based frontend cannot be used. at /usr/share/perl5/Debconf/FrontEnd/Dialog.pm line 78.)\n",
            "debconf: falling back to frontend: Readline\n",
            "\n",
            "Creating config file /etc/php/8.1/mods-available/posix.ini with new version\n",
            "debconf: unable to initialize frontend: Dialog\n",
            "debconf: (No usable dialog-like program is installed, so the dialog based frontend cannot be used. at /usr/share/perl5/Debconf/FrontEnd/Dialog.pm line 78.)\n",
            "debconf: falling back to frontend: Readline\n",
            "\n",
            "Creating config file /etc/php/8.1/mods-available/shmop.ini with new version\n",
            "debconf: unable to initialize frontend: Dialog\n",
            "debconf: (No usable dialog-like program is installed, so the dialog based frontend cannot be used. at /usr/share/perl5/Debconf/FrontEnd/Dialog.pm line 78.)\n",
            "debconf: falling back to frontend: Readline\n",
            "\n",
            "Creating config file /etc/php/8.1/mods-available/sockets.ini with new version\n",
            "debconf: unable to initialize frontend: Dialog\n",
            "debconf: (No usable dialog-like program is installed, so the dialog based frontend cannot be used. at /usr/share/perl5/Debconf/FrontEnd/Dialog.pm line 78.)\n",
            "debconf: falling back to frontend: Readline\n",
            "\n",
            "Creating config file /etc/php/8.1/mods-available/sysvmsg.ini with new version\n",
            "debconf: unable to initialize frontend: Dialog\n",
            "debconf: (No usable dialog-like program is installed, so the dialog based frontend cannot be used. at /usr/share/perl5/Debconf/FrontEnd/Dialog.pm line 78.)\n",
            "debconf: falling back to frontend: Readline\n",
            "\n",
            "Creating config file /etc/php/8.1/mods-available/sysvsem.ini with new version\n",
            "debconf: unable to initialize frontend: Dialog\n",
            "debconf: (No usable dialog-like program is installed, so the dialog based frontend cannot be used. at /usr/share/perl5/Debconf/FrontEnd/Dialog.pm line 78.)\n",
            "debconf: falling back to frontend: Readline\n",
            "\n",
            "Creating config file /etc/php/8.1/mods-available/sysvshm.ini with new version\n",
            "debconf: unable to initialize frontend: Dialog\n",
            "debconf: (No usable dialog-like program is installed, so the dialog based frontend cannot be used. at /usr/share/perl5/Debconf/FrontEnd/Dialog.pm line 78.)\n",
            "debconf: falling back to frontend: Readline\n",
            "\n",
            "Creating config file /etc/php/8.1/mods-available/tokenizer.ini with new version\n",
            "Setting up php8.1-readline (8.1.2-1ubuntu2.22) ...\n",
            "debconf: unable to initialize frontend: Dialog\n",
            "debconf: (No usable dialog-like program is installed, so the dialog based frontend cannot be used. at /usr/share/perl5/Debconf/FrontEnd/Dialog.pm line 78.)\n",
            "debconf: falling back to frontend: Readline\n",
            "\n",
            "Creating config file /etc/php/8.1/mods-available/readline.ini with new version\n",
            "Setting up php8.1-opcache (8.1.2-1ubuntu2.22) ...\n",
            "debconf: unable to initialize frontend: Dialog\n",
            "debconf: (No usable dialog-like program is installed, so the dialog based frontend cannot be used. at /usr/share/perl5/Debconf/FrontEnd/Dialog.pm line 78.)\n",
            "debconf: falling back to frontend: Readline\n",
            "\n",
            "Creating config file /etc/php/8.1/mods-available/opcache.ini with new version\n",
            "Setting up php8.1-cli (8.1.2-1ubuntu2.22) ...\n",
            "update-alternatives: using /usr/bin/php8.1 to provide /usr/bin/php (php) in auto mode\n",
            "update-alternatives: using /usr/bin/phar8.1 to provide /usr/bin/phar (phar) in auto mode\n",
            "update-alternatives: using /usr/bin/phar.phar8.1 to provide /usr/bin/phar.phar (phar.phar) in auto mode\n",
            "debconf: unable to initialize frontend: Dialog\n",
            "debconf: (No usable dialog-like program is installed, so the dialog based frontend cannot be used. at /usr/share/perl5/Debconf/FrontEnd/Dialog.pm line 78.)\n",
            "debconf: falling back to frontend: Readline\n",
            "\n",
            "Creating config file /etc/php/8.1/cli/php.ini with new version\n",
            "Setting up php-cli (2:8.1+92ubuntu1) ...\n",
            "update-alternatives: using /usr/bin/php.default to provide /usr/bin/php (php) in auto mode\n",
            "update-alternatives: using /usr/bin/phar.default to provide /usr/bin/phar (phar) in auto mode\n",
            "update-alternatives: using /usr/bin/phar.phar.default to provide /usr/bin/phar.phar (phar.phar) in auto mode\n",
            "Processing triggers for man-db (2.10.2-1) ...\n",
            "Processing triggers for php8.1-cli (8.1.2-1ubuntu2.22) ...\n"
          ]
        }
      ],
      "source": [
        "!sudo apt-get install php-cli\n"
      ]
    },
    {
      "cell_type": "markdown",
      "source": [
        "## Que es PHP:\n",
        "PHP (acrónimo recursivo para PHP: Hypertext Preprocessor) es un lenguaje de programación de código abierto, del lado del servidor, diseñado específicamente para el desarrollo web.\n",
        "PHP se ejecuta en el servidor web, no en el navegador del usuario (como lo haría JavaScript). Cuando un usuario visita una página PHP, el servidor procesa el código, genera HTML puro y envía ese resultado al navegador. El usuario final nunca ve el código fuente PHP, solo el resultado."
      ],
      "metadata": {
        "id": "rJ5vVHOmLEJ7"
      }
    },
    {
      "cell_type": "markdown",
      "source": [
        "![image.png](data:image/png;base64,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)"
      ],
      "metadata": {
        "id": "GcrjHjVJL6Nk"
      }
    },
    {
      "cell_type": "markdown",
      "source": [
        "# Su sintaxis:\n",
        "El código PHP siempre debe estar encerrado dentro de las etiquetas de apertura y cierre:"
      ],
      "metadata": {
        "id": "5cfAWEBfML75"
      }
    },
    {
      "cell_type": "code",
      "source": [
        "%%script php\n",
        "<?php\n",
        "\n",
        "?>"
      ],
      "metadata": {
        "id": "aSfc6oF2MmIR"
      },
      "execution_count": null,
      "outputs": []
    },
    {
      "cell_type": "markdown",
      "source": [
        "# 1. Declaracion y tipos de variables:\n",
        "Para declarar una variable en PHP se usa el signo de $ seguido el nombre de la variable y se iguala al valor que se desee"
      ],
      "metadata": {
        "id": "KWiRsnWjMRz3"
      }
    },
    {
      "cell_type": "code",
      "source": [
        "%%script php\n",
        "<?php\n",
        "$activo = true; //Boolean\n",
        "$edad = 19; //Integer\n",
        "$precio = 19.99;//Float\n",
        "$nombre = \"Luis\";//String\n",
        "$frutas = [\"manzana\", \"banana\"];//Array\n",
        "$dato = NULL;//NULL\n",
        "?>"
      ],
      "metadata": {
        "id": "CYSPP-j4KpXB"
      },
      "execution_count": null,
      "outputs": []
    },
    {
      "cell_type": "markdown",
      "source": [
        "# 2. Operadores logicos y matematicos:"
      ],
      "metadata": {
        "id": "Z62lbwIvObYp"
      }
    },
    {
      "cell_type": "code",
      "source": [
        "%%script php\n",
        "<?php\n",
        "// Operadores Matemáticos\n",
        "$a = 10;\n",
        "$b = 3;\n",
        "$suma = $a + $b; // Suma\n",
        "echo \"La suma de $a y $b es: $suma \\n\";\n",
        "$resta = $a - $b; // Resta\n",
        "echo \"La resta de $a - $b es: $resta \\n\";\n",
        "$multiplicacion = $a * $b; // Multiplicación\n",
        "echo \"La multiplicacion de $a * $b es : $multiplicacion \\n\";\n",
        "$division = $a / $b; // División\n",
        "echo \"La division de $a / $b es: $division \\n\";\n",
        "$resto = $a % $b; // Módulo\n",
        "echo \"El resto de $a % $b es: $resto \\n\";\n",
        "$potencia = pow($a, $b); // Potencia\n",
        "echo \"La potencia de $a ^ $b es: $potencia \\n\";\n",
        "$raiz = sqrt($a); // Raíz cuadrada\n",
        "echo \"La raíz cuadrada de $a es: $raiz \\n\";\n",
        "// Operadores Lógicos\n",
        "$x = 5;\n",
        "$y = 10;\n",
        "$resultado = ($x > 0) && ($y < 20);\n",
        "echo \"El resultado de la expresión es: $resultado \\n\";//si es true devolvera 1 y si es false devolvera una cadena vacia\n",
        "?>"
      ],
      "metadata": {
        "colab": {
          "base_uri": "https://localhost:8080/"
        },
        "id": "BZD1e5gjNuaJ",
        "outputId": "0ca4b676-5cb3-4acd-ccdb-b14282f661d6"
      },
      "execution_count": null,
      "outputs": [
        {
          "output_type": "stream",
          "name": "stdout",
          "text": [
            "La suma de 10 y 3 es: 13 \n",
            "La resta de 10 - 3 es: 7 \n",
            "La multiplicacion de 10 * 3 es : 30 \n",
            "La division de 10 / 3 es: 3.3333333333333 \n",
            "El resto de 10 % 3 es: 1 \n",
            "La potencia de 10 ^ 3 es: 1000 \n",
            "La raíz cuadrada de 10 es: 3.1622776601684 \n",
            "El resultado de la expresión es: 1 \n"
          ]
        }
      ]
    },
    {
      "cell_type": "markdown",
      "source": [
        "# 3.Condicionales:\n",
        "* IF-ELSEIF-ELSE: <br>\n",
        "Los condicionales if, elseif y else en PHP permiten controlar el flujo de ejecución del código basándose en condiciones lógicas. La estructura comienza con if para evaluar una condición principal; si esta es verdadera, ejecuta el bloque de código correspondiente. Cuando hay múltiples condiciones excluyentes, se utiliza elseif para verificar condiciones adicionales de manera secuencial. Finalmente, else actúa como caso por defecto, ejecutándose únicamente si todas las condiciones anteriores fueron falsas.\n",
        "* SWITCH: <br>\n",
        "La estructura switch en PHP ofrece una alternativa más elegante y legible para manejar múltiples casos comparados contra una misma variable o expresión. Funciona evaluando una expresión principal y luego comparándola con diferentes valores definidos en los casos (case). Cuando coincide un caso, ejecuta el código asociado hasta encontrar un break, que es fundamental para evitar que se sigan ejecutando los casos subsiguientes (fenómeno conocido como \"fall-through\"). El caso default funciona como opción por defecto cuando ningún otro caso coincide."
      ],
      "metadata": {
        "id": "DlsdXEsmROrs"
      }
    },
    {
      "cell_type": "code",
      "source": [
        "%%script php\n",
        "<?php\n",
        "$edad = 10;\n",
        "// IF-ELSEIF-ELSE\n",
        "if ($edad < 18) {\n",
        "    echo \"Es menor de edad.\\n\";\n",
        "} elseif ($edad >= 65) {\n",
        "    echo \"Es un adulto mayor.\\n\";\n",
        "} else {\n",
        "    echo \"Es un adulto.\\n\";\n",
        "}\n",
        "\n",
        "// SWITCH\n",
        "$dia = \"Domingo\";\n",
        "switch ($dia) {\n",
        "    case \"Sábado\":\n",
        "    case \"Domingo\":\n",
        "        echo \"¡Es fin de semana!\\n\";\n",
        "        break; // Necesario para salir del switch\n",
        "    default:\n",
        "        echo \"Es día laboral.\\n\";\n",
        "}\n",
        "?>"
      ],
      "metadata": {
        "colab": {
          "base_uri": "https://localhost:8080/"
        },
        "id": "iqfwE5beRSwn",
        "outputId": "c70719a3-e874-41e4-c676-57f69b45b188"
      },
      "execution_count": null,
      "outputs": [
        {
          "output_type": "stream",
          "name": "stdout",
          "text": [
            "Es menor de edad.\n",
            "¡Es fin de semana!\n"
          ]
        }
      ]
    },
    {
      "cell_type": "markdown",
      "source": [
        "# 4. Bucles:\n",
        "* Bucle FOR: <br>\n",
        "El bucle FOR en PHP es una estructura de control iterativa que se utiliza cuando se conoce de antemano el número exacto de repeticiones necesarias. Su sintaxis consta de tres partes fundamentales: la inicialización de la variable contador, la condición de permanencia en el bucle y el incremento o decremento del contador.\n",
        "* Bucle WHILE vs DO-WHILE: <br>\n",
        "Los bucles WHILE y DO-WHILE en PHP manejan situaciones donde la cantidad de iteraciones no es conocida inicialmente, pero difieren en un aspecto crucial: la evaluación de la condición. El bucle WHILE verifica la condición al principio de cada iteración, por lo que si la condición es falsa desde el inicio, el bloque de código no se ejecutará ninguna vez. En contraste, el bucle DO-WHILE garantiza al menos una ejecución, ya que evalúa la condición al final de cada iteración.\n",
        "* Bucle FOREACH: <br>\n",
        "El bucle FOREACH en PHP está específicamente diseñado para recorrer arrays y objetos de manera simplificada y segura. Su principal ventaja radica en que automáticamente itera sobre cada elemento del array sin necesidad de manejar índices manualmente o preocuparse por los límites del array.\n",
        "\n"
      ],
      "metadata": {
        "id": "DjWS5fYQTI_6"
      }
    },
    {
      "cell_type": "code",
      "source": [
        "%%script php\n",
        "<?php\n",
        "echo \"Bucle FOR: \";\n",
        "for ($i = 1; $i <= 3; $i++) {\n",
        "    echo \"$i \";\n",
        "}\n",
        "echo \"\\n\";\n",
        "\n",
        "$contador = 0;\n",
        "echo \"Bucle WHILE: \";\n",
        "while ($contador < 3) {\n",
        "    echo \"$contador \";\n",
        "    $contador++;\n",
        "}\n",
        "echo \"\\n\";\n",
        "echo \"Bucle DOWHILE: \";\n",
        "$i = 0;\n",
        "do {\n",
        "    echo \"$i \" ;\n",
        "    $i++;\n",
        "} while ($i < 3);\n",
        "echo \"\\n\";\n",
        "$colores = [\"Rojo\",\"Azul\",\"Amarillo\"];\n",
        "echo \"Bucle FOREACH (Array): \";\n",
        "foreach ($colores as $color) {\n",
        "    echo \"$color \";\n",
        "}\n",
        "echo \"\\n\";\n",
        "?>"
      ],
      "metadata": {
        "colab": {
          "base_uri": "https://localhost:8080/"
        },
        "id": "kDOezi0nTSns",
        "outputId": "fba175a3-567f-4374-d449-1f0dbcf6ce1f"
      },
      "execution_count": null,
      "outputs": [
        {
          "output_type": "stream",
          "name": "stdout",
          "text": [
            "Bucle FOR: 1 2 3 \n",
            "Bucle WHILE: 0 1 2 \n",
            "Bucle DOWHILE: 0 1 2 \n",
            "Bucle FOREACH (Array): Rojo Azul Amarillo \n"
          ]
        }
      ]
    },
    {
      "cell_type": "markdown",
      "source": [
        "# 5.Funciones:\n",
        "Las funciones en PHP son bloques de código reutilizables que encapsulan una lógica específica y pueden recibir parámetros para operar con ellos. La estructura básica de una función comienza con la palabra clave function seguida del nombre de la función y paréntesis que pueden contener parámetros."
      ],
      "metadata": {
        "id": "ZXIMxcBxV44J"
      }
    },
    {
      "cell_type": "code",
      "source": [
        "%%script php\n",
        "<?php\n",
        "function sumar($a, $b){\n",
        "  return $a+$b;\n",
        "}\n",
        "function suma_definida($a,$b): int{//se puede definir el valor que retornara\n",
        "  return $a+$b;\n",
        "}\n",
        "$resultado = sumar(5,3);\n",
        "$resultado2 = suma_definida(3,3);\n",
        "echo \"El resultado de la suma es: $resultado\";\n",
        "echo \"\\n\";\n",
        "echo \"El resultado de la suma2 es: $resultado2\";\n",
        "?>"
      ],
      "metadata": {
        "colab": {
          "base_uri": "https://localhost:8080/"
        },
        "id": "X9LfqHLRWpFN",
        "outputId": "0fbb839f-e505-4003-ee59-88c9bfb577ab"
      },
      "execution_count": null,
      "outputs": [
        {
          "output_type": "stream",
          "name": "stdout",
          "text": [
            "El resultado de la suma es: 8\n",
            "El resultado de la suma2 es: 6"
          ]
        }
      ]
    },
    {
      "cell_type": "markdown",
      "source": [
        "# 6.Objetos y Encapsulamiento:\n",
        "* Objetos:<br>\n",
        "En PHP, la programación orientada a objetos se basa en el uso de clases y objetos. Una clase funciona como un molde o plantilla que define las propiedades (atributos) y comportamientos (métodos) que tendrán los objetos creados a partir de ella. Para usar una clase, primero debemos instanciarla utilizando la palabra clave new, lo que crea un objeto específico con su propia identidad y estado.<br>\n",
        "* Encapsulamiento:<br>\n",
        "El encapsulamiento es un principio fundamental de la programación orientada a objetos que consiste en ocultar los detalles internos de una clase y controlar el acceso a sus propiedades. En PHP, esto se logra mediante modificadores de acceso: private (accesible solo dentro de la clase), protected (accesible dentro de la clase y sus herederas) y public (accesible desde cualquier lugar). Las propiedades privadas como $saldo y $nombre no pueden ser accedidas directamente desde fuera de la clase, por lo que se utilizan métodos públicos para interactuar con ellas. Los getters (como getDatos()) permiten leer los valores, mientras que otros métodos como depositar() permiten modificar el estado de manera controlada.\n"
      ],
      "metadata": {
        "id": "U1ffx_XJXihr"
      }
    },
    {
      "cell_type": "code",
      "source": [
        "%%script php\n",
        "<?php\n",
        "class CuentaBancaria {\n",
        "    // Propiedad privada (Encapsulamiento)\n",
        "    private $saldo;\n",
        "    private $nombre;\n",
        "\n",
        "    // Método Constructor\n",
        "    public function __construct(float $saldoInicial,String $nombre) {\n",
        "        $this->saldo = $saldoInicial;\n",
        "        $this->nombre = $nombre;\n",
        "    }\n",
        "\n",
        "    // Método de Comportamiento (Depositar)\n",
        "    public function depositar(float $cantidad) {\n",
        "        $this->saldo += $cantidad;\n",
        "        echo \"\\n Depósito de $cantidad realizado.\";\n",
        "    }\n",
        "\n",
        "    // Método Getter (Acceso al saldo)\n",
        "    public function getDatos(){\n",
        "        echo \"\\n\";\n",
        "        echo \" Nombre de propietario: $this->nombre \\n Saldo actual: $this->saldo\";\n",
        "    }\n",
        "}\n",
        "\n",
        "// Crear un Objeto (Instanciar la clase)\n",
        "$miCuenta = new CuentaBancaria(500.00,\"Luis\");\n",
        "// Llamar a los métodos del objeto\n",
        "$miCuenta->getDatos();\n",
        "$miCuenta->depositar(150.00);\n",
        "$miCuenta->getDatos();\n",
        "\n",
        "?>"
      ],
      "metadata": {
        "colab": {
          "base_uri": "https://localhost:8080/"
        },
        "id": "tBntzKokagRi",
        "outputId": "232e13c8-6216-495c-ea4d-7c99b8fe2711"
      },
      "execution_count": null,
      "outputs": [
        {
          "output_type": "stream",
          "name": "stdout",
          "text": [
            "\n",
            " Nombre de propietario: Luis \n",
            " Saldo actual: 500\n",
            " Depósito de 150 realizado.\n",
            " Nombre de propietario: Luis \n",
            " Saldo actual: 650"
          ]
        }
      ]
    }
  ]
}