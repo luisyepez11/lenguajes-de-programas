{
 "cells": [
  {
   "cell_type": "markdown",
   "id": "c32e9c60-67a3-468a-a041-068bad41e35a",
   "metadata": {},
   "source": [
    "## Que es C#\n",
    "C# es un lenguaje de programación moderno, orientado a objetos y de propósito general, desarrollado por Microsoft como parte de la plataforma .NET. A diferencia de los lenguajes que se ejecutan directamente en el navegador como JavaScript, C# se ejecuta en el Common Language Runtime (CLR) del framework .NET. Cuando se utiliza para desarrollo web, el código C# se procesa en el servidor, generando HTML puro que se envía al navegador del usuario. El usuario final nunca ve el código fuente C#, solo ve el resultado renderizado en su navegador. C# es ampliamente utilizado para crear aplicaciones web, servicios backend, aplicaciones de escritorio y móviles, funcionando de manera multiplataforma en sistemas como Windows, Linux y macOS."
   ]
  },
  {
   "attachments": {
    "ca4876ff-38c9-4c24-8899-5b58ba0866c4.png": {
     "image/png": "[encoded data removed]"
    }
   },
   "cell_type": "markdown",
   "id": "c5304640-b771-4bb8-8ac1-baedf20d3eb8",
   "metadata": {},
   "source": [
    "![image.png](attachment:ca4876ff-38c9-4c24-8899-5b58ba0866c4.png)"
   ]
  },
  {
   "cell_type": "markdown",
   "id": "937b492e-b4a8-41cd-8032-35c3ae55c64c",
   "metadata": {},
   "source": [
    "# Su sintaxis:\n",
    "El código C# se organiza en clases y namespaces, donde cada aplicación debe contener al menos una clase con un método Main que sirve como punto de entrada. A diferencia de los lenguajes que usan etiquetas específicas, en C# el código se estructura mediante bloques delimitados por llaves {} y cada sentencia debe terminar con punto y coma. Los archivos suelen tener extensión .cs y el compilador procesa todo el código contenido dentro de estos archivos como parte del programa, sin necesidad de etiquetas de apertura y cierre especiales como en otros lenguajes."
   ]
  },
  {
   "cell_type": "code",
   "execution_count": 7,
   "id": "67f5cf49-54e7-439a-b326-9dd00b1337f2",
   "metadata": {
    "vscode": {
     "languageId": "csharp"
    }
   },
   "outputs": [
    {
     "name": "stdout",
     "output_type": "stream",
     "text": [
      "Nombre: Luis, Edad: 19\n"
     ]
    }
   ],
   "source": [
    "string nombre = \"Luis\";\n",
    "int edad = 19;\n",
    "double altura = 1.78;\n",
    "bool activo = true;\n",
    "object datoNulo = null;\n",
    "string[] colores = {\"Rojo\", \"Verde\", \"Azul\"};\n",
    "\n",
    "Console.WriteLine($\"Nombre: {nombre}, Edad: {edad}\");"
   ]
  },
  {
   "cell_type": "markdown",
   "id": "c0e4b17d-94f4-4684-aae9-1608c4568d3c",
   "metadata": {},
   "source": [
    "# 2. Operadores logicos y matematicos:\n"
   ]
  },
  {
   "cell_type": "code",
   "execution_count": 8,
   "id": "bc4910cd-863c-4599-bbff-d5a8b9c2189a",
   "metadata": {
    "vscode": {
     "languageId": "csharp"
    }
   },
   "outputs": [
    {
     "name": "stdout",
     "output_type": "stream",
     "text": [
      "La suma de 10 y 3 es: 13\n",
      "La resta de 10 - 3 es: 7\n",
      "La multiplicacion de 10 * 3 es: 30\n",
      "La division entera de 10 / 3 es: 3\n",
      "La division (flotante) de 10 / 3 es: 3,3333333333333335\n",
      "El resto de 10 % 3 es: 1\n",
      "La potencia de 10 ^ 3 es: 1000\n",
      "La raíz cuadrada de 10 es: 3,1622776601683795\n",
      "El resultado de la expresión lógica es: True\n"
     ]
    }
   ],
   "source": [
    "// Operadores Matemáticos\n",
    "        int a = 10;\n",
    "        int b = 3;\n",
    "\n",
    "        int suma = a + b;\n",
    "        Console.WriteLine($\"La suma de {a} y {b} es: {suma}\");\n",
    "        \n",
    "        int resta = a - b;\n",
    "        Console.WriteLine($\"La resta de {a} - {b} es: {resta}\");\n",
    "        \n",
    "        int multiplicacion = a * b;\n",
    "        Console.WriteLine($\"La multiplicacion de {a} * {b} es: {multiplicacion}\");\n",
    "        \n",
    "        /*\n",
    "         En C#, la división de enteros (int) resulta en un entero\n",
    "         Para obtener un resultado con decimales,\n",
    "         al menos uno de los operandos debe ser decimal o usar casting\n",
    "        */\n",
    "        int divisionEntera = a / b;\n",
    "        Console.WriteLine($\"La division entera de {a} / {b} es: {divisionEntera}\");\n",
    "\n",
    "        double divisionFlotante = (double)a / b; // Convierte 'a' a double para la división real\n",
    "        Console.WriteLine($\"La division (flotante) de {a} / {b} es: {divisionFlotante}\");\n",
    "        \n",
    "        int resto = a % b;\n",
    "        Console.WriteLine($\"El resto de {a} % {b} es: {resto}\");\n",
    "        \n",
    "        double potencia = Math.Pow(a, b);\n",
    "        Console.WriteLine($\"La potencia de {a} ^ {b} es: {potencia}\");\n",
    "        \n",
    "        double raiz = Math.Sqrt(a);\n",
    "        Console.WriteLine($\"La raíz cuadrada de {a} es: {raiz}\");\n",
    "\n",
    "        // Operadores Lógicos\n",
    "        int x = 5;\n",
    "        int y = 10;\n",
    "\n",
    "        // AND lógico (&&)\n",
    "        bool resultadoLogico = (x > 0) && (y < 20);\n",
    "        Console.WriteLine($\"El resultado de la expresión lógica es: {resultadoLogico}\");"
   ]
  },
  {
   "cell_type": "markdown",
   "id": "b83c817a-8436-4505-9e84-3541f38cbd79",
   "metadata": {},
   "source": [
    "# 3.Condicionales:\n",
    "* IF-ELSIF-ELSE:<br>\n",
    "C# maneja las decisiones condicionales mediante la estructura if-else if-else, que evalúa expresiones booleanas de forma secuencial. La sintaxis utiliza if seguido de paréntesis () para la condición principal, else if para condiciones alternativas adicionales, y else como caso por defecto cuando ninguna condición anterior se cumple. Cada bloque de código asociado a una condición debe estar delimitado con llaves {}, marcando el ámbito de ejecución de cada rama condicional.\n",
    "* CASE-WHEN: <br>\n",
    "La estructura switch-case en C# es la equivalente a los statements switch de otros lenguajes, ofreciendo un control de flujo basado en comparación de valores. Utiliza la palabra clave switch seguida de la expresión a evaluar, y luego múltiples cláusulas case que especifican los valores a comparar. C# permite manejar múltiples casos de forma consecutiva sin necesidad de break entre ellos, ejecutando el mismo bloque de código para diferentes valores. Cada caso debe terminar obligatoriamente con break para evitar fallos de compilación, y se incluye el caso default como opción por defecto cuando ningún caso coincide."
   ]
  },
  {
   "cell_type": "code",
   "execution_count": 9,
   "id": "4a2c3ddb-66fa-4fb8-b95e-2aca203fb2a1",
   "metadata": {
    "vscode": {
     "languageId": "csharp"
    }
   },
   "outputs": [
    {
     "name": "stdout",
     "output_type": "stream",
     "text": [
      "Es menor de edad.\n",
      "¡Es fin de semana!\n"
     ]
    }
   ],
   "source": [
    "int edad = 17;\n",
    "        \n",
    "        // IF-ELSE IF-ELSE\n",
    "        if (edad < 18)\n",
    "        {\n",
    "            Console.WriteLine(\"Es menor de edad.\");\n",
    "        }\n",
    "        else if (edad >= 65)\n",
    "        {\n",
    "            Console.WriteLine(\"Es un adulto mayor.\");\n",
    "        }\n",
    "        else\n",
    "        {\n",
    "            Console.WriteLine(\"Es un adulto.\");\n",
    "        }\n",
    "\n",
    "        // SWITCH (Equivalente al case)\n",
    "        string dia = \"Sábado\";\n",
    "        switch (dia)\n",
    "        {\n",
    "            case \"Sábado\":\n",
    "            case \"Domingo\":\n",
    "                Console.WriteLine(\"¡Es fin de semana!\");\n",
    "                break;\n",
    "            case \"Lunes\":\n",
    "                Console.WriteLine(\"Es lunes :(\");\n",
    "                break;\n",
    "            default:\n",
    "                Console.WriteLine(\"Es día laboral.\");\n",
    "                break;\n",
    "        }"
   ]
  },
  {
   "cell_type": "markdown",
   "id": "6b4e8df3-fb8a-45bb-aaec-8a00b2f73644",
   "metadata": {},
   "source": [
    "# 4. Bucles:\n",
    "* Bucle FOR: <br>\n",
    "El bucle FOR en C# es una estructura de control iterativa que se utiliza cuando se conoce de antemano el número exacto de repeticiones necesarias. Su sintaxis consta de tres partes fundamentales dentro del paréntesis: la declaración e inicialización de la variable contador, la condición de permanencia en el bucle y el incremento o decremento del contador. Cada una de estas partes se separa por punto y coma, y el bloque de código a repetir se delimita con llaves.\n",
    "* Bucle WHILE vs DO-WHILE: <br>\n",
    "Los bucles WHILE y DO-WHILE en C# manejan situaciones donde la cantidad de iteraciones no es conocida inicialmente, pero difieren en un aspecto crucial: la evaluación de la condición. El bucle WHILE verifica la condición al principio de cada iteración, por lo que si la condición es falsa desde el inicio, el bloque de código no se ejecutará ninguna vez. En contraste, el bucle DO-WHILE garantiza al menos una ejecución, ya que evalúa la condición al final de cada iteración, después de haber ejecutado el bloque de código.\n",
    "* Bucle FOREACH: <br>\n",
    "El bucle FOREACH en C# está específicamente diseñado para recorrer colecciones como arrays, listas y otros enumerables de manera simplificada y segura. Su principal ventaja radica en que automáticamente itera sobre cada elemento de la colección sin necesidad de manejar índices manualmente o preocuparse por los límites. La sintaxis utiliza la palabra clave foreach seguida de la declaración de tipo y variable iteradora, la palabra in y la colección a recorrer."
   ]
  },
  {
   "cell_type": "code",
   "execution_count": 10,
   "id": "5aefcf6d-f5a4-405c-91a5-a2adb61e66ef",
   "metadata": {
    "vscode": {
     "languageId": "csharp"
    }
   },
   "outputs": [
    {
     "name": "stdout",
     "output_type": "stream",
     "text": [
      "Bucle FOR: 1 2 3 \n",
      "Bucle WHILE: 0 1 2 \n",
      "Bucle DOWHILE: 0 1 2 \n",
      "Bucle FOREACH (Array): Rojo Azul Amarillo \n"
     ]
    }
   ],
   "source": [
    "Console.Write(\"Bucle FOR: \");\n",
    "        for (int i = 1; i <= 3; i++)\n",
    "        {\n",
    "            Console.Write($\"{i} \");\n",
    "        }\n",
    "        Console.WriteLine();\n",
    "\n",
    "        int contador = 0;\n",
    "        Console.Write(\"Bucle WHILE: \");\n",
    "        while (contador < 3)\n",
    "        {\n",
    "            Console.Write($\"{contador} \");\n",
    "            contador++;\n",
    "        }\n",
    "        Console.WriteLine();\n",
    "\n",
    "        Console.Write(\"Bucle DOWHILE: \");\n",
    "        int j = 0;\n",
    "        do\n",
    "        {\n",
    "            Console.Write($\"{j} \");\n",
    "            j++;\n",
    "        } while (j < 3);\n",
    "        Console.WriteLine();\n",
    "\n",
    "        string[] colores = {\"Rojo\", \"Azul\", \"Amarillo\"};\n",
    "        Console.Write(\"Bucle FOREACH (Array): \");\n",
    "        foreach (string color in colores)\n",
    "        {\n",
    "            Console.Write($\"{color} \");\n",
    "        }\n",
    "        Console.WriteLine();"
   ]
  },
  {
   "cell_type": "markdown",
   "id": "ee712a93-9f19-4d49-99e0-63eadaa26dfb",
   "metadata": {},
   "source": [
    "# 5.Funciones:\n",
    "Las funciones en C# son bloques de código reutilizables que encapsulan una lógica específica y pueden recibir parámetros para operar con ellos. La estructura básica de una función comienza con modificadores de acceso como public, private o static, seguido del tipo de dato que retorna la función, el nombre de la función y paréntesis que contienen los parámetros con sus tipos específicos. En C#, a diferencia de otros lenguajes, es obligatorio definir el tipo de retorno de la función, usando void cuando no retorna ningún valor. Las funciones promueven la modularidad y reutilización del código, permitiendo organizar la lógica en unidades coherentes y mantenibles."
   ]
  },
  {
   "cell_type": "code",
   "execution_count": 11,
   "id": "47444076-f9bc-4ad7-9e00-f67ecb4323da",
   "metadata": {
    "vscode": {
     "languageId": "csharp"
    }
   },
   "outputs": [
    {
     "name": "stdout",
     "output_type": "stream",
     "text": [
      "El resultado de la suma es: 8\n"
     ]
    }
   ],
   "source": [
    "static int Sumar(int a, int b)\n",
    "    {\n",
    "        return a + b;\n",
    "    }\n",
    "    \n",
    "int resultado = Sumar(5, 3);\n",
    "Console.WriteLine($\"El resultado de la suma es: {resultado}\");"
   ]
  },
  {
   "cell_type": "markdown",
   "id": "15cbd242-6e5f-45ce-b92b-dc29a6d2fce2",
   "metadata": {},
   "source": [
    "# 6.Objetos y Encapsulamiento:\n",
    "* Objetos:<br>\n",
    "En C#, la programación orientada a objetos se basa en el uso de clases y objetos. Una clase funciona como un molde o plantilla que define las propiedades (atributos) y comportamientos (métodos) que tendrán los objetos creados a partir de ella. Para usar una clase, primero debemos instanciarla utilizando la palabra clave new, lo que crea un objeto específico con su propia identidad y estado. Cada objeto mantiene su propio conjunto de valores para las propiedades definidas en la clase.\n",
    "* Encapsulamiento:<br>\n",
    "El encapsulamiento es un principio fundamental de la programación orientada a objetos que consiste en ocultar los detalles internos de una clase y controlar el acceso a sus propiedades. En C#, esto se logra mediante modificadores de acceso: private (accesible solo dentro de la clase), protected (accesible dentro de la clase y sus herederas) y public (accesible desde cualquier lugar). Las propiedades privadas como saldo y nombre no pueden ser accedidas directamente desde fuera de la clase, por lo que se utilizan métodos públicos para interactuar con ellas. Los métodos como GetDatos() permiten leer los valores, mientras que otros métodos como Depositar() permiten modificar el estado de manera controlada y validada."
   ]
  },
  {
   "cell_type": "code",
   "execution_count": 14,
   "id": "14ead35c-16af-444a-806e-5763f2f43693",
   "metadata": {
    "vscode": {
     "languageId": "csharp"
    }
   },
   "outputs": [
    {
     "name": "stdout",
     "output_type": "stream",
     "text": [
      "\n",
      " Nombre de propietario: Luis \n",
      " Saldo actual: 500\n",
      "\n",
      " Depósito de 150 realizado.\n",
      "\n",
      " Nombre de propietario: Luis \n",
      " Saldo actual: 650\n"
     ]
    }
   ],
   "source": [
    "class CuentaBancaria {\n",
    "    // Propiedades privadas (Encapsulamiento)\n",
    "    private double saldo;\n",
    "    private string nombre;\n",
    "\n",
    "    // Método Constructor\n",
    "    public CuentaBancaria(double saldoInicial, string nombre) {\n",
    "        this.saldo = saldoInicial;\n",
    "        this.nombre = nombre;\n",
    "    }\n",
    "\n",
    "    // Método de Comportamiento (Depositar)\n",
    "    public void Depositar(double cantidad) {\n",
    "        this.saldo += cantidad;\n",
    "        Console.WriteLine($\"\\n Depósito de {cantidad} realizado.\");\n",
    "    }\n",
    "\n",
    "    // Método Getter (Acceso a los datos)\n",
    "    public void GetDatos() {\n",
    "        Console.WriteLine($\"\\n Nombre de propietario: {this.nombre} \\n Saldo actual: {this.saldo}\");\n",
    "    }\n",
    "}\n",
    "CuentaBancaria miCuenta = new CuentaBancaria(500.00, \"Luis\");\n",
    "        \n",
    "        // Llamar a los métodos del objeto\n",
    "        miCuenta.GetDatos();\n",
    "        miCuenta.Depositar(150.00);\n",
    "        miCuenta.GetDatos();"
   ]
  },
  {
   "cell_type": "code",
   "execution_count": null,
   "id": "1e214244-8f89-4c30-a7ae-637706338cfc",
   "metadata": {
    "vscode": {
     "languageId": "csharp"
    }
   },
   "outputs": [],
   "source": []
  }
 ],
 "metadata": {
  "kernelspec": {
   "display_name": ".NET (C#)",
   "language": "C#",
   "name": ".net-csharp"
  },
  "language_info": {
   "file_extension": ".cs",
   "mimetype": "text/x-csharp",
   "name": "C#",
   "pygments_lexer": "csharp",
   "version": "13.0"
  }
 },
 "nbformat": 4,
 "nbformat_minor": 5
}
